{
  "nbformat": 4,
  "nbformat_minor": 0,
  "metadata": {
    "colab": {
      "provenance": [],
      "authorship_tag": "ABX9TyPxA+Adpl0Rj82VQwfDuIbD",
      "include_colab_link": true
    },
    "kernelspec": {
      "name": "python3",
      "display_name": "Python 3"
    },
    "language_info": {
      "name": "python"
    }
  },
  "cells": [
    {
      "cell_type": "markdown",
      "metadata": {
        "id": "view-in-github",
        "colab_type": "text"
      },
      "source": [
        "<a href=\"https://colab.research.google.com/github/mertsaru/Pytorch-Linear-regression-example/blob/main/insuarence_prediction_with_pythorch_linear_regression.ipynb\" target=\"_parent\"><img src=\"https://colab.research.google.com/assets/colab-badge.svg\" alt=\"Open In Colab\"/></a>"
      ]
    },
    {
      "cell_type": "code",
      "execution_count": 1,
      "metadata": {
        "id": "dsWbD7rBHhXU"
      },
      "outputs": [],
      "source": [
        "import torch\n",
        "import torchvision\n",
        "import torch.nn as nn\n",
        "import pandas as pd\n",
        "import matplotlib.pyplot as plt\n",
        "import torch.nn.functional as F\n",
        "from torchvision.datasets.utils import download_url\n",
        "from torch.utils.data import DataLoader, TensorDataset, random_split"
      ]
    },
    {
      "cell_type": "code",
      "source": [
        "DATASET_URL = \"https://gist.github.com/BirajCoder/5f068dfe759c1ea6bdfce9535acdb72d/raw/c84d84e3c80f93be67f6c069cbdc0195ec36acbd/insurance.csv\"\n",
        "DATA_FILENAME = \"insurance.csv\"\n",
        "download_url(DATASET_URL, '.')"
      ],
      "metadata": {
        "colab": {
          "base_uri": "https://localhost:8080/"
        },
        "id": "yllL4GTbHs5i",
        "outputId": "58dc5d71-afa2-4b30-efb2-537633726d29"
      },
      "execution_count": 2,
      "outputs": [
        {
          "output_type": "stream",
          "name": "stdout",
          "text": [
            "Using downloaded and verified file: ./insurance.csv\n"
          ]
        }
      ]
    },
    {
      "cell_type": "code",
      "source": [
        "pdf = pd.read_csv(DATA_FILENAME)\n",
        "print(pdf.head())\n",
        "pdf.shape"
      ],
      "metadata": {
        "colab": {
          "base_uri": "https://localhost:8080/"
        },
        "id": "iEoTuQe7H0do",
        "outputId": "e4c27d33-caf4-46b8-a151-dcd0fdc9d40d"
      },
      "execution_count": 3,
      "outputs": [
        {
          "output_type": "stream",
          "name": "stdout",
          "text": [
            "   age     sex     bmi  children smoker     region      charges\n",
            "0   19  female  27.900         0    yes  southwest  16884.92400\n",
            "1   18    male  33.770         1     no  southeast   1725.55230\n",
            "2   28    male  33.000         3     no  southeast   4449.46200\n",
            "3   33    male  22.705         0     no  northwest  21984.47061\n",
            "4   32    male  28.880         0     no  northwest   3866.85520\n"
          ]
        },
        {
          "output_type": "execute_result",
          "data": {
            "text/plain": [
              "(1338, 7)"
            ]
          },
          "metadata": {},
          "execution_count": 3
        }
      ]
    },
    {
      "cell_type": "code",
      "source": [
        "# Dividing input and target\n",
        "X = pdf.drop('charges',axis=1)\n",
        "Y = pdf[['charges']]\n",
        "input_size, output_size = X.shape[1], Y.shape[1]\n",
        "X.shape, Y.shape"
      ],
      "metadata": {
        "colab": {
          "base_uri": "https://localhost:8080/"
        },
        "id": "UjZuQtZ8IB32",
        "outputId": "ab3ae326-5d18-457f-d959-0dff1af30040"
      },
      "execution_count": 4,
      "outputs": [
        {
          "output_type": "execute_result",
          "data": {
            "text/plain": [
              "((1338, 6), (1338, 1))"
            ]
          },
          "metadata": {},
          "execution_count": 4
        }
      ]
    },
    {
      "cell_type": "code",
      "source": [
        "# Data-specific parameter\n",
        "categorical_cols = ['sex','smoker','region']\n",
        "\n",
        "# Model parameter\n",
        "batch_size = 5"
      ],
      "metadata": {
        "id": "a9747lDOIarc"
      },
      "execution_count": 5,
      "outputs": []
    },
    {
      "cell_type": "code",
      "source": [
        "# Transforming categorical non-integers into integers\n",
        "for col in categorical_cols:\n",
        "  X[col] = X[col].astype('category').cat.codes"
      ],
      "metadata": {
        "id": "E1JkHTGbIjcI"
      },
      "execution_count": 6,
      "outputs": []
    },
    {
      "cell_type": "code",
      "source": [
        "# Transforming data into ndarray\n",
        "X = X.values\n",
        "Y = Y.values"
      ],
      "metadata": {
        "id": "hu9VojZ5LbVD"
      },
      "execution_count": 7,
      "outputs": []
    },
    {
      "cell_type": "code",
      "source": [
        "tdf = TensorDataset(torch.tensor(X,dtype = torch.float32),torch.tensor(Y,dtype = torch.float32))\n",
        "train_set, val_set = random_split(tdf,[1000,338])\n",
        "val_set, test_set = random_split(val_set, [238,100])\n",
        "\n",
        "\n",
        "train_set = DataLoader(train_set, batch_size, shuffle = True )\n",
        "val_set = DataLoader(val_set,batch_size)"
      ],
      "metadata": {
        "id": "GSSi2Tm_JXHT"
      },
      "execution_count": 8,
      "outputs": []
    },
    {
      "cell_type": "code",
      "source": [
        "# Writing Model\n",
        "class InsuranceLR(nn.Module):\n",
        "  def __init__(self):\n",
        "    super().__init__()\n",
        "    self.linear = nn.Linear(input_size,output_size)\n",
        "\n",
        "  def forward(self,x):\n",
        "    out = self.linear(x)\n",
        "    return out\n",
        "\n",
        "  def training_step(self,batch):\n",
        "    x, y = batch\n",
        "    ypred = self(x)\n",
        "    loss = F.mse_loss(y, ypred)\n",
        "    return loss\n",
        "\n",
        "  def validation_step(self,batch):\n",
        "    x, y = batch\n",
        "    ypred = self(x)\n",
        "    loss = F.mse_loss(y,ypred)\n",
        "    return {'val_loss': loss.detach()}\n",
        "\n",
        "  def validation_epoch(self,result):\n",
        "    losses = [loss['val_loss'] for loss in result]\n",
        "    epoch_loss = torch.stack(losses).mean()\n",
        "    return {'val_loss': epoch_loss.item()}\n",
        "  \n",
        "  def epoch_log(self,num_epochs,epoch,val_result):\n",
        "    if ((epoch+1) % 10 == 0) or (epoch+1 == num_epochs):\n",
        "      print('Epoch : [{}]  loss: {:.4f}'.format(epoch+1 ,val_result['val_loss']))"
      ],
      "metadata": {
        "id": "CyKFqL2iMLC4"
      },
      "execution_count": 9,
      "outputs": []
    },
    {
      "cell_type": "code",
      "source": [
        "# Evaluation and fit function\n",
        "def evaluate(model,val_set):\n",
        "  batch_losses = [model.validation_step(batch) for batch in val_set]\n",
        "  epoch_loss = model.validation_epoch(batch_losses)\n",
        "  return epoch_loss\n",
        "\n",
        "def fit(model,train_set, val_set, epochs, lr, optimizer_func = torch.optim.SGD):\n",
        "  history = [] # storing the loss\n",
        "  optimizer = optimizer_func(model.parameters(),lr)\n",
        "  for epoch in range(epochs):\n",
        "    # Training\n",
        "    for batch in train_set:\n",
        "      loss = model.training_step(batch)\n",
        "      loss.backward() # learning by backward prop\n",
        "      optimizer.step()\n",
        "      optimizer.zero_grad() # cleaning optimizer\n",
        "    \n",
        "    # Validation\n",
        "    epoch_loss = evaluate(model,val_set)\n",
        "    model.epoch_log(epochs, epoch, epoch_loss) # printing the log\n",
        "    history.append(epoch_loss)\n",
        "  return history"
      ],
      "metadata": {
        "id": "ygr_54m8QOl3"
      },
      "execution_count": 10,
      "outputs": []
    },
    {
      "cell_type": "code",
      "source": [
        "model = InsuranceLR()\n",
        "lr = 1e-4\n",
        "epochs = 200"
      ],
      "metadata": {
        "id": "V_xfb2sjS_bn"
      },
      "execution_count": 11,
      "outputs": []
    },
    {
      "cell_type": "code",
      "source": [
        "history = fit(model,train_set,val_set,epochs,lr)"
      ],
      "metadata": {
        "colab": {
          "base_uri": "https://localhost:8080/"
        },
        "id": "8GeAWGCJTf2n",
        "outputId": "9f6b8711-32e8-4942-cded-df89cdca7e3f"
      },
      "execution_count": 12,
      "outputs": [
        {
          "output_type": "stream",
          "name": "stdout",
          "text": [
            "Epoch : [10]  loss: 148336240.0000\n",
            "Epoch : [20]  loss: 125539704.0000\n",
            "Epoch : [30]  loss: 116204544.0000\n",
            "Epoch : [40]  loss: 108080448.0000\n",
            "Epoch : [50]  loss: 97621152.0000\n",
            "Epoch : [60]  loss: 90344472.0000\n",
            "Epoch : [70]  loss: 91875800.0000\n",
            "Epoch : [80]  loss: 84019256.0000\n",
            "Epoch : [90]  loss: 76716872.0000\n",
            "Epoch : [100]  loss: 73314296.0000\n",
            "Epoch : [110]  loss: 67657496.0000\n",
            "Epoch : [120]  loss: 74749896.0000\n",
            "Epoch : [130]  loss: 63328060.0000\n",
            "Epoch : [140]  loss: 59375924.0000\n",
            "Epoch : [150]  loss: 59674516.0000\n",
            "Epoch : [160]  loss: 56127740.0000\n",
            "Epoch : [170]  loss: 54577188.0000\n",
            "Epoch : [180]  loss: 52621916.0000\n",
            "Epoch : [190]  loss: 57383696.0000\n",
            "Epoch : [200]  loss: 49530432.0000\n"
          ]
        }
      ]
    },
    {
      "cell_type": "code",
      "source": [
        "# Prediction function\n",
        "def prediction(data, model):\n",
        "  x, target = data\n",
        "  x = x.unsqueeze(0)\n",
        "  prediction = model(x)\n",
        "  prediction = prediction[0].detach()\n",
        "  \n",
        "  print('Input :', x)\n",
        "  print('Prediction :', prediction) \n",
        "  print('Target :', target)"
      ],
      "metadata": {
        "id": "frbionysUXJc"
      },
      "execution_count": 13,
      "outputs": []
    },
    {
      "cell_type": "code",
      "source": [
        "test_data = test_set[0]\n",
        "prediction(test_data, model)"
      ],
      "metadata": {
        "colab": {
          "base_uri": "https://localhost:8080/"
        },
        "id": "Aq9-s7d8YkyT",
        "outputId": "8f3294dd-d004-410c-9e13-daf5b7127631"
      },
      "execution_count": 14,
      "outputs": [
        {
          "output_type": "stream",
          "name": "stdout",
          "text": [
            "Input : tensor([[25.0000,  1.0000, 23.9000,  5.0000,  0.0000,  3.0000]])\n",
            "Prediction : tensor([6361.6226])\n",
            "Target : tensor([5080.0962])\n"
          ]
        }
      ]
    }
  ]
}